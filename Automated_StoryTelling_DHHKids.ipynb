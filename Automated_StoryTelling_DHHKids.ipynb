{
  "nbformat": 4,
  "nbformat_minor": 0,
  "metadata": {
    "colab": {
      "provenance": [],
      "authorship_tag": "ABX9TyPKQp32RdKol+tnaAupb4ne",
      "include_colab_link": true
    },
    "kernelspec": {
      "name": "python3",
      "display_name": "Python 3"
    },
    "language_info": {
      "name": "python"
    }
  },
  "cells": [
    {
      "cell_type": "markdown",
      "metadata": {
        "id": "view-in-github",
        "colab_type": "text"
      },
      "source": [
        "<a href=\"https://colab.research.google.com/github/Sunnnyyy16/DHH_AI_Story/blob/main/%08Automated_StoryTelling_DHHKids.ipynb\" target=\"_parent\"><img src=\"https://colab.research.google.com/assets/colab-badge.svg\" alt=\"Open In Colab\"/></a>"
      ]
    },
    {
      "cell_type": "markdown",
      "source": [
        "# AI-Based Automated Storybook Creation Tool for Deaf or Hard of Hearings Children\n",
        "\n",
        "청각장애 아동 대상 AI 기반 동화제작 자동화 툴"
      ],
      "metadata": {
        "id": "rCBix9Kx2EXV"
      }
    },
    {
      "cell_type": "markdown",
      "source": [
        "# Part 1: ASL Translation to Standard English Sentence"
      ],
      "metadata": {
        "id": "90KND7II2UlT"
      }
    },
    {
      "cell_type": "code",
      "source": [],
      "metadata": {
        "id": "SaFTl6hW2orp"
      },
      "execution_count": null,
      "outputs": []
    },
    {
      "cell_type": "code",
      "source": [],
      "metadata": {
        "id": "62viYTNN2opZ"
      },
      "execution_count": null,
      "outputs": []
    },
    {
      "cell_type": "markdown",
      "source": [
        "# Part 2: Extract Image Depictions and Characters Appearance"
      ],
      "metadata": {
        "id": "zs5fiqyS2aej"
      }
    },
    {
      "cell_type": "code",
      "source": [
        "import transformers\n",
        "import torch\n",
        "\n",
        "MY_HF_TOKEN = \"WRITE_HF_TOKEN\"\n",
        "# 모델 ID\n",
        "model_id = \"meta-llama/Meta-Llama-3.1-8B-Instruct\"\n",
        "\n",
        "pipeline = transformers.pipeline(\n",
        "    \"text-generation\",\n",
        "    model=model_id,\n",
        "    model_kwargs={\"torch_dtype\": torch.bfloat16},\n",
        "    device_map=\"auto\",\n",
        "    token = MY_HF_TOKEN\n",
        ")"
      ],
      "metadata": {
        "id": "5joQivR12pFI"
      },
      "execution_count": null,
      "outputs": []
    },
    {
      "cell_type": "code",
      "source": [
        "# story 3파트로 나누기\n",
        "story1 = \"\"\"\n",
        "There once was a boy who grew bored while watching over the village sheep.\n",
        "He wanted to make things more exciting. So, he yelled out that he saw a wolf chasing the sheep.\n",
        "All the villagers came running to drive the wolf away. However, they saw no wolf. The boy was amused, but the villagers were not.\n",
        "They told him not to do it again.\n",
        "\"\"\"\n",
        "\n",
        "story2 = \"\"\"\n",
        "Shortly after, he repeated this antic. The villagers came running again, only to find that he was lying.\n",
        "Later that day, the boy really sees a wolf sneaking amongst the flock. He jumped up and called out for help.\n",
        "But no one came this time because they thought he was still joking around.\n",
        "\"\"\"\n",
        "\n",
        "story3 = \"\"\"\n",
        "At sunset, the villagers looked for the boy. He had not returned with their sheep.\n",
        "They found him crying. He told them that there really was a wolf, and the entire flock was gone.\n",
        "An old man came to comfort him and told him that nobody would believe a liar even when they are being honest.\n",
        "\"\"\"\n",
        "\n",
        "# 전체 스토리\n",
        "full_story = \"\"\"\n",
        "There once was a boy who grew bored while watching over the village sheep.\n",
        "He wanted to make things more exciting. So, he yelled out that he saw a wolf chasing the sheep.\n",
        "All the villagers came running to drive the wolf away. However, they saw no wolf.\n",
        "The boy was amused, but the villagers were not. They told him not to do it again. Shortly after, he repeated this antic.\n",
        "The villagers came running again, only to find that he was lying. Later that day, the boy really sees a wolf sneaking amongst the flock.\n",
        "He jumped up and called out for help. But no one came this time because they thought he was still joking around.\n",
        "At sunset, the villagers looked for the boy. He had not returned with their sheep.\n",
        "They found him crying. He told them that there really was a wolf, and the entire flock was gone.\n",
        "An old man came to comfort him and told him that nobody would believe a liar even when they are being honest.\n",
        "\"\"\""
      ],
      "metadata": {
        "id": "4Ny9SCVhTkzx"
      },
      "execution_count": null,
      "outputs": []
    },
    {
      "cell_type": "code",
      "source": [
        "#### 외양묘사\n",
        "# OSOS prompt 활용\n",
        "messages = [\n",
        "    {\"role\": \"system\", \"content\": \"In the given story, assign main Characters Characteristics that seems the most normal and fitting to the story such as color and shape. If it is a human, descriptions should include hair color and clothes. For example: Boy:[Brown hair][Blue eyes][white T-shirt and jeans]\"},\n",
        "    {\"role\": \"user\", \"content\": f\"Here is a story: {full_story}\"}\n",
        "]\n",
        "\n",
        "# 결과 생성\n",
        "outputs = pipeline(\n",
        "    messages,\n",
        "    max_new_tokens=256,\n",
        ")\n",
        "\n",
        "# 결과 출력\n",
        "print(outputs[0][\"generated_text\"])"
      ],
      "metadata": {
        "id": "qvkJR2Wp2pC8"
      },
      "execution_count": null,
      "outputs": []
    },
    {
      "cell_type": "code",
      "source": [
        "### story 요약\n",
        "# OSOS prompt 활용\n",
        "messages = [\n",
        "    {\"role\": \"system\", \"content\": \"You are an AI assitant to describe image for storybook. Write one sentence that depicts an image of the story. The format should be [subject][doing action],[adjective],[background subject],[scenery].\"},\n",
        "    {\"role\": \"user\", \"content\": f\"Here is a story: {story1}\"}\n",
        "]\n",
        "\n",
        "# 결과 생성\n",
        "outputs = pipeline(\n",
        "    messages,\n",
        "    max_new_tokens=256,\n",
        ")\n",
        "\n",
        "# 결과 출력\n",
        "print(outputs[0][\"generated_text\"])"
      ],
      "metadata": {
        "id": "BSSXlaqvTY6L"
      },
      "execution_count": null,
      "outputs": []
    },
    {
      "cell_type": "code",
      "source": [],
      "metadata": {
        "id": "NI39dbaJTY8U"
      },
      "execution_count": null,
      "outputs": []
    },
    {
      "cell_type": "code",
      "source": [],
      "metadata": {
        "id": "Q75zlwXmTY-a"
      },
      "execution_count": null,
      "outputs": []
    },
    {
      "cell_type": "code",
      "source": [],
      "metadata": {
        "id": "1fkCxHP1TZAL"
      },
      "execution_count": null,
      "outputs": []
    },
    {
      "cell_type": "markdown",
      "source": [
        "# Part 3: Image generation with fine-tuned diffusion model"
      ],
      "metadata": {
        "id": "_I5yUeCE2f1V"
      }
    },
    {
      "cell_type": "code",
      "source": [
        "!pip install diffusers\n",
        "!pip install accelerate\n",
        "!pip install datasets\n",
        "!pip install bitsandbytes"
      ],
      "metadata": {
        "id": "APPnjLu42phz"
      },
      "execution_count": null,
      "outputs": []
    },
    {
      "cell_type": "code",
      "source": [
        "from diffusers import DiffusionPipeline\n",
        "\n",
        "DF_HF_TOKEN = 'WRITE_HF_TOKEN'\n",
        "\n",
        "pipe = DiffusionPipeline.from_pretrained(\n",
        "    \"dhlim55/kids-storybook_illustration\",\n",
        "    token = DF_HF_TOKEN)\n",
        "\n",
        "pipe = pipe.to(\"cuda\")"
      ],
      "metadata": {
        "id": "8UB6M5Y32pfk"
      },
      "execution_count": null,
      "outputs": []
    },
    {
      "cell_type": "code",
      "execution_count": null,
      "metadata": {
        "id": "SU2Z3kSC031u"
      },
      "outputs": [],
      "source": [
        "def plot_images(images):\n",
        "    from matplotlib import pyplot as plt\n",
        "    plt.figure()\n",
        "    f, axarr = plt.subplots(1, len(images), figsize=(20,10))\n",
        "    for ax, img in zip(axarr.flatten(), images):\n",
        "        ax.imshow(img)\n",
        "        ax.axis('off')\n",
        "    plt.show()"
      ]
    },
    {
      "cell_type": "code",
      "source": [
        "# story1\n",
        "prompt = \"\"\"[Brown hair][Blue eyes][White T-shirt and jeans] A mischievous boy, with a sly grin, stands amidst a flock of sheep, with a distant village in the background, under a bright blue sky with fluffy white clouds.\"\"\"\n",
        "\n",
        "images = pipe(prompt, num_images_per_prompt=3).images\n",
        "\n",
        "plot_images(images)"
      ],
      "metadata": {
        "id": "BCW3yMZPR_YD"
      },
      "execution_count": null,
      "outputs": []
    },
    {
      "cell_type": "code",
      "source": [
        "# story2\n",
        "prompt = \"\"\"[Brown hair][Blue eyes][White T-shirt and jeans] A boy, laughing mischievously, lies on the ground amidst a flock of sheep, a sunny green meadow in the background.\"\"\"\n",
        "\n",
        "images = pipe(prompt, num_images_per_prompt=3).images\n",
        "\n",
        "plot_images(images)"
      ],
      "metadata": {
        "id": "GUuLhumgR_aY"
      },
      "execution_count": null,
      "outputs": []
    },
    {
      "cell_type": "code",
      "source": [
        "# story3\n",
        "prompt = \"\"\"[Brown hair][Blue eyes][White T-shirt and jeans] A young boy, with tears streaming down his face, stands alone amidst the empty, grassy field, where a scattering of sheep's wool and a few stray sheep can be seen, with the setting sun casting a warm orange glow in the background.\"\"\"\n",
        "\n",
        "images = pipe(prompt, num_images_per_prompt=3).images\n",
        "\n",
        "plot_images(images)"
      ],
      "metadata": {
        "id": "ewFRE7RPR_cr"
      },
      "execution_count": null,
      "outputs": []
    }
  ]
}